{
 "cells": [
  {
   "cell_type": "markdown",
   "metadata": {},
   "source": [
    "# Explore here"
   ]
  },
  {
   "cell_type": "code",
   "execution_count": 1,
   "metadata": {},
   "outputs": [
    {
     "name": "stdout",
     "output_type": "stream",
     "text": [
      "Basado en 'Man on Fire', te recomendamos:\n",
      "- The November Man\n",
      "- Double Take\n",
      "- Wild Card\n",
      "- We Have Your Husband\n",
      "- The Bodyguard\n"
     ]
    }
   ],
   "source": [
    "import pandas as pd\n",
    "import sqlite3\n",
    "import json\n",
    "from sklearn.feature_extraction.text import TfidfVectorizer\n",
    "from sklearn.metrics.pairwise import cosine_similarity\n",
    "\n",
    "# Carga de datos\n",
    "movies_path = \"../data/raw/tmdb_5000_movies.csv\"\n",
    "credits_path = \"../data/raw/tmdb_5000_credits.csv\"\n",
    "\n",
    "df_m = pd.read_csv(movies_path)\n",
    "df_c = pd.read_csv(credits_path)\n",
    "df_m = df_m.rename(columns={'id': 'movie_id'})\n",
    "\n",
    "# Unir datasets\n",
    "df_full = pd.merge(df_m, df_c, on=\"movie_id\")\n",
    "df_full = df_full[['movie_id', 'original_title', 'overview', 'genres', 'keywords', 'cast', 'crew']]\n",
    "\n",
    "# Transformación de datos\n",
    "def extract_names(json_col, limit=None, filter_job=None):\n",
    "    try:\n",
    "        data = json.loads(json_col)\n",
    "        if filter_job:\n",
    "            return [entry['name'].replace(\" \", \"\") for entry in data if entry.get('job') == filter_job]\n",
    "        return [entry['name'].replace(\" \", \"\") for entry in data[:limit]]\n",
    "    except:\n",
    "        return []\n",
    "\n",
    "df_full['genres'] = df_full['genres'].apply(lambda x: extract_names(x))\n",
    "df_full['keywords'] = df_full['keywords'].apply(lambda x: extract_names(x))\n",
    "df_full['cast'] = df_full['cast'].apply(lambda x: extract_names(x, limit=3))\n",
    "df_full['crew'] = df_full['crew'].apply(lambda x: extract_names(x, filter_job=\"Director\"))\n",
    "df_full['overview'] = df_full['overview'].fillna('').apply(lambda x: x.split())\n",
    "\n",
    "# Crear columna \"tags\"\n",
    "df_full['tags'] = (df_full['overview'] + df_full['genres'] + df_full['keywords'] + \n",
    "                   df_full['cast'] + df_full['crew']).apply(lambda x: ' '.join(x))\n",
    "\n",
    "# Construcción del modelo KNN\n",
    "tfidf = TfidfVectorizer(max_features=5000)\n",
    "tfidf_matrix = tfidf.fit_transform(df_full['tags'])\n",
    "similarity = cosine_similarity(tfidf_matrix)\n",
    "\n",
    "def recommend(movie_title):\n",
    "    if movie_title not in df_full['original_title'].values:\n",
    "        print(f\"La película '{movie_title}' no se encuentra en la base de datos.\")\n",
    "        return\n",
    "    movie_index = df_full[df_full['original_title'] == movie_title].index[0]\n",
    "    distances = similarity[movie_index]\n",
    "    movie_list = sorted(list(enumerate(distances)), reverse=True, key=lambda x: x[1])[1:6]\n",
    "    \n",
    "    print(f\"Basado en '{movie_title}', te recomendamos:\")\n",
    "    for movie in movie_list:\n",
    "        print(f\"- {df_full.iloc[movie[0]].original_title}\")\n",
    "\n",
    "# Ejemplo \n",
    "recommend(\"Man on Fire\")\n"
   ]
  }
 ],
 "metadata": {
  "kernelspec": {
   "display_name": "Python 3",
   "language": "python",
   "name": "python3"
  },
  "language_info": {
   "codemirror_mode": {
    "name": "ipython",
    "version": 3
   },
   "file_extension": ".py",
   "mimetype": "text/x-python",
   "name": "python",
   "nbconvert_exporter": "python",
   "pygments_lexer": "ipython3",
   "version": "3.12.7"
  },
  "orig_nbformat": 4
 },
 "nbformat": 4,
 "nbformat_minor": 2
}
